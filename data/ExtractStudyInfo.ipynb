{
 "cells": [
  {
   "cell_type": "code",
   "execution_count": 12,
   "id": "4973a5c5",
   "metadata": {},
   "outputs": [],
   "source": [
    "import enum\n",
    "import os\n",
    "from typing import Literal\n",
    "\n",
    "import dotenv\n",
    "import instructor\n",
    "import openai\n",
    "import polars as pl\n",
    "from pydantic import BaseModel, Field"
   ]
  },
  {
   "cell_type": "code",
   "execution_count": 7,
   "id": "207acffe",
   "metadata": {},
   "outputs": [],
   "source": [
    "dotenv.load_dotenv()\n",
    "openai.api_key = os.getenv(\"OPENAI_API_KEY\")"
   ]
  },
  {
   "cell_type": "markdown",
   "id": "d4b64995",
   "metadata": {},
   "source": [
    "## Setting up for Extraction\n",
    "\n",
    "### Properties to extract\n",
    "\n",
    "- What is the study design?\n",
    "- What hypotheses were being tested?\n",
    "- Methods for identifying follow up recommendations (including by a human and/or AI)\n",
    "- Methods for communicating follow up recommnendations\n",
    "- Methods for facillitating ordering / scheduling / completion of recommended follow up?\n",
    "- Methods for assessing if follow up recommendations are followed\n",
    "- Methods for assessing outcomes for patinets for whom follow up was recommended\n",
    "- Assessment of recommendation format on follow up being performed\n",
    "\n",
    "Exclusion criteria\n",
    "- Only a guidelines\n",
    "- Inumeration of follow up recommendation / incidental findings (incidence / prevalence)\n",
    "- Opinion only (editorial that does not describe a system)"
   ]
  },
  {
   "cell_type": "code",
   "execution_count": null,
   "id": "76b76f0a",
   "metadata": {},
   "outputs": [],
   "source": [
    "class ArticleInfo(BaseModel):\n",
    "    study_design: str | Literal['unknown'] = Field(description=\"Study design of the article; if you can't tell from the information, say 'unknown'\")\n",
    "    hypothesis: str  | Literal['unknown'] = Field(description=\"Hypothesis of the article; if you can't tell from the information, say 'unknown'\")\n",
    "    identifying_recommendations_method: str | Literal['unknown'] = Field(description=\"How did the study identify recommendations; if you can't tell from the information, say 'unknown'\")\n",
    "    communication_recommendations_method: str | Literal['unknown'] = Field(description=\"How did the program described communicate recommendations; if you can't tell from the information, say 'unknown'\")\n",
    "    incidence_only: bool | Literal['unknown']= Field(description=\"Is the article only measuring the incidence of a particular recommendation? True or False; if you can't tell from the information, say 'unknown'\")\n",
    "    guideline_only: bool | Literal['unknown'] = Field(description=\"Is the article only describing a guideline? True or False; if you can't tell from the information, say 'unknown'\")\n",
    "    opinion_only: bool | Literal['unknown'] = Field(description=\"Is the article only an opinion piece or editorial? True or False; if you can't tell from the information, say 'unknown'\")\n",
    "    review_only: bool | Literal['unknown'] = Field(description=\"Is the article only a review? True or False; if you can't tell from the information, say 'unknown'\")\n"
   ]
  },
  {
   "cell_type": "code",
   "execution_count": 16,
   "id": "e009448a",
   "metadata": {},
   "outputs": [
    {
     "name": "stdout",
     "output_type": "stream",
     "text": [
      "shape: (5, 12)\n",
      "┌──────────┬────────────┬───────────┬───────────┬───┬───────────┬──────────┬───────────┬───────────┐\n",
      "│ PMID     ┆ Title      ┆ Authors   ┆ Citation  ┆ … ┆ PMCID     ┆ NIHMS ID ┆ DOI       ┆ InEmbaseR │\n",
      "│ ---      ┆ ---        ┆ ---       ┆ ---       ┆   ┆ ---       ┆ ---      ┆ ---       ┆ esults?   │\n",
      "│ i64      ┆ str        ┆ str       ┆ str       ┆   ┆ str       ┆ str      ┆ str       ┆ ---       │\n",
      "│          ┆            ┆           ┆           ┆   ┆           ┆          ┆           ┆ bool      │\n",
      "╞══════════╪════════════╪═══════════╪═══════════╪═══╪═══════════╪══════════╪═══════════╪═══════════╡\n",
      "│ 37934099 ┆ A 20-year  ┆ Henschke  ┆ Radiology ┆ … ┆ PMC106985 ┆ null     ┆ 10.1148/r ┆ true      │\n",
      "│          ┆ Follow-up  ┆ CI, Yip   ┆ . 2023    ┆   ┆ 00        ┆          ┆ adiol.231 ┆           │\n",
      "│          ┆ of the     ┆ R, Shaham ┆ Nov;309(2 ┆   ┆           ┆          ┆ 988       ┆           │\n",
      "│          ┆ Int…       ┆ D, …      ┆ ):e23…    ┆   ┆           ┆          ┆           ┆           │\n",
      "│ 37561144 ┆ Positron   ┆ Tingen    ┆ Eur J     ┆ … ┆ PMC106844 ┆ null     ┆ 10.1007/s ┆ true      │\n",
      "│          ┆ emission   ┆ HSA,      ┆ Nucl Med  ┆   ┆ 14        ┆          ┆ 00259-023 ┆           │\n",
      "│          ┆ tomography ┆ Tubben A, ┆ Mol       ┆   ┆           ┆          ┆ -06381-3  ┆           │\n",
      "│          ┆ i…         ┆ van 't O… ┆ Imaging.  ┆   ┆           ┆          ┆           ┆           │\n",
      "│          ┆            ┆           ┆ 20…       ┆   ┆           ┆          ┆           ┆           │\n",
      "│ 31624116 ┆ Incidental ┆ Dangoulof ┆ AJNR Am J ┆ … ┆ PMC697512 ┆ null     ┆ 10.3174/a ┆ true      │\n",
      "│          ┆ Brain MRI  ┆ f-Ros V,  ┆ Neuroradi ┆   ┆ 2         ┆          ┆ jnr.A6281 ┆           │\n",
      "│          ┆ Findings … ┆ Roux CJ,  ┆ ol. 2019  ┆   ┆           ┆          ┆           ┆           │\n",
      "│          ┆            ┆ Bou…      ┆ No…       ┆   ┆           ┆          ┆           ┆           │\n",
      "│ 35907273 ┆ Patient-le ┆ Calvillo  ┆ Clin      ┆ … ┆ null      ┆ null     ┆ 10.1016/j ┆ true      │\n",
      "│          ┆ vel        ┆ Aç, Kodav ┆ Imaging.  ┆   ┆           ┆          ┆ .clinimag ┆           │\n",
      "│          ┆ factors    ┆ erdian    ┆ 2022 Oct; ┆   ┆           ┆          ┆ .2022.07. ┆           │\n",
      "│          ┆ influenc…  ┆ LC, G…    ┆ 90:5-10…  ┆   ┆           ┆          ┆ 006       ┆           │\n",
      "│ 33278340 ┆ Management ┆ Crable    ┆ J Am Coll ┆ … ┆ null      ┆ null     ┆ 10.1016/j ┆ true      │\n",
      "│          ┆ Strategies ┆ EL,       ┆ Radiol.   ┆   ┆           ┆          ┆ .jacr.202 ┆           │\n",
      "│          ┆ to Promo…  ┆ Feeney T, ┆ 2021      ┆   ┆           ┆          ┆ 0.11.006  ┆           │\n",
      "│          ┆            ┆ Harvey    ┆ Apr;18(…  ┆   ┆           ┆          ┆           ┆           │\n",
      "│          ┆            ┆ J,…       ┆           ┆   ┆           ┆          ┆           ┆           │\n",
      "└──────────┴────────────┴───────────┴───────────┴───┴───────────┴──────────┴───────────┴───────────┘\n"
     ]
    }
   ],
   "source": [
    "articles_df = pl.read_csv(\"data/PM_EB_searches.tsv\", separator=\"\\t\", encoding=\"latin1\")\n",
    "print(articles_df.head())"
   ]
  },
  {
   "cell_type": "code",
   "execution_count": 29,
   "id": "21cfc097",
   "metadata": {},
   "outputs": [],
   "source": [
    "article_titles =list(articles_df[0:5][\"Title\"])"
   ]
  },
  {
   "cell_type": "code",
   "execution_count": 23,
   "id": "8d7f16ce",
   "metadata": {},
   "outputs": [],
   "source": [
    "llm = instructor.from_openai(openai.OpenAI())"
   ]
  },
  {
   "cell_type": "code",
   "execution_count": 33,
   "id": "d23787ba",
   "metadata": {},
   "outputs": [],
   "source": [
    "PROMPT = \"\"\"You are a medical expert. You are given the title of a medical article about tracking follow-up recommendations in radiology.\n",
    "Based on the title, you need to answer the following questions:\n",
    "- What is the study design of the article? (e.g., cohort study, case-control study, randomized controlled trial, etc.)\n",
    "- What is the hypothesis of the article?\n",
    "- How did the study identify recommendations?\n",
    "- How did the program described communicate recommendations?\n",
    "- Is the article only measuring the incidence of a particular recommendation? True or False\n",
    "- Is the article only describing a guideline? True or False\n",
    "- Is the article only an opinion piece or editorial? True or False\n",
    "- Is the article only a review? True or False\n",
    "- Is the article only measuring the incidence of a particular recommendation? True or False\n",
    "- Is the article only describing a guideline? True or False\n",
    "\"\"\"\n",
    "\n",
    "INSTRUCTIONS = \"\"\"Answer the questions based ONLY on the given information. If you can't tell from the information, say 'unknown'.\"\"\""
   ]
  },
  {
   "cell_type": "code",
   "execution_count": 34,
   "id": "cffe1a27",
   "metadata": {},
   "outputs": [],
   "source": [
    "def generate_prompt(title: str) -> str:\n",
    "    return f\"{PROMPT}\\n\\nArticle Title: {title}\\n\\n{INSTRUCTIONS}\\n\\nAnswer:\""
   ]
  },
  {
   "cell_type": "code",
   "execution_count": 35,
   "id": "32e7f0b2",
   "metadata": {},
   "outputs": [
    {
     "name": "stdout",
     "output_type": "stream",
     "text": [
      "A 20-year Follow-up of the International Early Lung Cancer Action Program (I-ELCAP)\n"
     ]
    }
   ],
   "source": [
    "print(article_titles[0])"
   ]
  },
  {
   "cell_type": "code",
   "execution_count": 36,
   "id": "5079ab4e",
   "metadata": {},
   "outputs": [],
   "source": [
    "response = llm.chat.completions.create(\n",
    "    messages=[\n",
    "        {\n",
    "            \"role\": \"user\",\n",
    "            \"content\": generate_prompt(article_titles[0]),\n",
    "        }\n",
    "    ],\n",
    "    model=\"o4-mini\",\n",
    "    response_model=ArticleInfo,\n",
    ")"
   ]
  },
  {
   "cell_type": "code",
   "execution_count": 37,
   "id": "556ca786",
   "metadata": {},
   "outputs": [
    {
     "name": "stdout",
     "output_type": "stream",
     "text": [
      "{\n",
      "  \"study_design\": \"cohort study\",\n",
      "  \"hypothesis\": \"unknown\",\n",
      "  \"identifying_recommendations_method\": \"unknown\",\n",
      "  \"communication_recommendations_method\": \"unknown\",\n",
      "  \"incidence_only\": false,\n",
      "  \"guideline_only\": false\n",
      "}\n"
     ]
    }
   ],
   "source": [
    "print(response.model_dump_json(indent=2))"
   ]
  },
  {
   "cell_type": "code",
   "execution_count": null,
   "id": "4b4aa365",
   "metadata": {},
   "outputs": [],
   "source": []
  }
 ],
 "metadata": {
  "kernelspec": {
   "display_name": "llm-litsearch",
   "language": "python",
   "name": "python3"
  },
  "language_info": {
   "codemirror_mode": {
    "name": "ipython",
    "version": 3
   },
   "file_extension": ".py",
   "mimetype": "text/x-python",
   "name": "python",
   "nbconvert_exporter": "python",
   "pygments_lexer": "ipython3",
   "version": "3.13.3"
  }
 },
 "nbformat": 4,
 "nbformat_minor": 5
}
